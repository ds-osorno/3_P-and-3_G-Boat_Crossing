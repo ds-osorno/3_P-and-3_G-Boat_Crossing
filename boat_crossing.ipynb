# Import the 'deque' data structure from the 'collections' module.
from collections import deque


# Define the initial and goal states
initial_state = (3, 3, 1)  
# Set the initial state with 3 priests, 3 ghosts, and the boat on the left side.
goal_state = (0, 0, 0)  
# Set the goal state with 0 priests, 0 ghosts, and the boat on the right side.


# Define a function 'is_valid' that takes a 'state' as input.
def is_valid(state):
    # Unpack the 'state' tuple into 'priest_left', 'ghost_left', and 'boat'.
    priest_left, ghost_left, boat = state
    # Calculate the values on the right side based on the values on the left side.
    priest_right, ghost_right = 3 - priest_left, 3 - ghost_left
    

    # Check if ghosts outnumber priests on either side
    # If ghosts outnumber priests on the left side AND there are still priests on the left
    # OR ghosts outnumber priests on the right side AND there are still priests on the right,
    if (ghost_left > priest_left and priest_left > 0) or (ghost_right > priest_right and priest_right > 0):
        
        # Return False to indicate the state is invalid.
        return False

    # Otherwise, return True to indicate the state is valid.  
    return True
    


# Define a function 'generate_successors' that takes a 'state' as input and returns a list of successor states.
def generate_successors(state):

    
    successors = []  # Initialize an empty list to store the successor states.

    # Unpack the 'state' tuple into 'priest', 'ghost', and 'boat'.
    priest, ghost, boat = state
    

    # Possible passenger combinations (0 to 2 people)
    # Define all possible combinations of passengers on the boat as a list of tuples.
    passengers = [(1, 0), (0, 1), (1, 1), (2, 0), (0, 2)]
    
    # Iterate through each passenger combination.
    for passenger in passengers:

        # Unpack the passenger combination into 'p_delta' (change in priests) and 'g_delta' (change in ghosts).
        p_delta, g_delta = passenger
        
        # Calculate the new state after moving the passengers.
        new_state = (priest - p_delta, ghost - g_delta, 1 - boat)
       

        # Check if the new state is within bounds and valid
        if 0 <= new_state[0] <= 3 and 0 <= new_state[1] <= 3 and is_valid(new_state):
            # If the new state has valid numbers of priests and ghosts on both sides 
            # and is within bounds, Add the new state to the list of successors.
            successors.append(new_state)
            
    # Return the list of successor states.
    return successors
    

# Define a function 'solve_puzzle' to find a solution using Breadth-First Search (BFS).

def solve_puzzle():

    # Initialize a set to keep track of visited states and avoid loops.
    visited = set()  

    # Initialize a queue with the initial state and an empty path.
    queue = deque([(initial_state, [])])
    
    # Start a loop that continues until the queue is empty.
    while queue:

        # Remove and get the next state and its associated path from the queue.
        state, path = queue.popleft()
        
        # If the current state is the goal state, a solution has been found.
        if state == goal_state:
            
            # Return the path to the goal.
            return path
            
        # Mark the current state as visited.
        visited.add(state)
        

        for successor in generate_successors(state):
            # Iterate through the successor states of the current state.
            if successor not in visited:
                # If the successor state has not been visited yet:
                new_path = path + [state, successor]
                # Extend the current path with the current state and the successor state.
                queue.append((successor, new_path))
                # Add the successor state and its extended path to the queue for exploration.

    return None
    # If the loop completes without finding a solution, return None to indicate no solution.

# Solve the puzzle and print the solution path
solution_path = solve_puzzle()

# Call the 'solve_puzzle' function to find a solution and store the resulting path.
if solution_path:
    # If a solution was found:
    print("Solution Path:")
    # Print a header to indicate the start of the solution path.
    for i, state in enumerate(solution_path):
        # Iterate through the states in the solution path.
        priest_left, ghost_left, boat = state
        # Unpack the state into 'priest_left', 'ghost_left', and 'boat'.
        priest_right, ghost_right = 3 - priest_left, 3 - ghost_left
        # Calculate the values on the right side based on the values on the left side.
        print(state)
        # Print the current state.
        print(f"Step {i+1}: Priests Left: {priest_left}, Ghosts Left: {ghost_left}, Boat: {'Left' if boat == 1 else 'Right'}")
        # Print information about the current state.
        print(f"Step {i+1}: Priests Left: {priest_right}, Ghosts Left: {ghost_right}, Boat: {'Left' if boat == 1 else 'Right'}")
        # Print information about the corresponding state on the right side.
else:
    # If no solution was found: # Print a message indicating that no solution was found.
    print("No solution found.")
    
